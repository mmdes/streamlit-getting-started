{
 "cells": [
  {
   "cell_type": "code",
   "execution_count": 3,
   "metadata": {},
   "outputs": [],
   "source": [
    "import streamlit as st\n",
    "import numpy as np\n",
    "import pandas as pd"
   ]
  },
  {
   "cell_type": "code",
   "execution_count": 4,
   "metadata": {},
   "outputs": [
    {
     "data": {
      "text/plain": [
       "array([[ 0.10229136, -0.54196188,  0.02598923],\n",
       "       [ 0.70249963, -0.46966562,  1.37316599],\n",
       "       [-0.76578642, -0.01197613,  0.09712039],\n",
       "       [ 0.52190215, -1.87223068, -1.3735666 ],\n",
       "       [-0.98952934, -2.62606069,  0.99554289],\n",
       "       [-2.41604732,  1.03733207, -0.50993962],\n",
       "       [ 0.05283241,  0.02772067, -0.13334781],\n",
       "       [ 0.60340068, -0.05171859, -1.25747393],\n",
       "       [-0.58078493, -0.77097496,  1.14830227],\n",
       "       [ 1.23122875,  1.25301615, -1.27826744],\n",
       "       [-0.8852917 , -2.43712061, -0.65300923],\n",
       "       [-1.71914258, -0.20194015,  0.10784209],\n",
       "       [-0.16934597,  1.30173696,  0.58297384],\n",
       "       [ 0.55391758, -0.63146506,  0.6645241 ],\n",
       "       [-0.60905832, -1.2608763 ,  0.67521092],\n",
       "       [-1.47794014,  1.48413078, -0.12235899],\n",
       "       [ 0.5305114 ,  0.46454383, -1.54194234],\n",
       "       [-0.6328039 , -0.15203637, -2.19075339],\n",
       "       [-0.51735542, -1.24530266,  0.44221825],\n",
       "       [ 0.32612651, -2.31132151, -0.10933379]])"
      ]
     },
     "execution_count": 4,
     "metadata": {},
     "output_type": "execute_result"
    }
   ],
   "source": [
    "np.random.randn(20, 3)"
   ]
  },
  {
   "cell_type": "code",
   "execution_count": 11,
   "metadata": {},
   "outputs": [
    {
     "data": {
      "text/html": [
       "<div>\n",
       "<style scoped>\n",
       "    .dataframe tbody tr th:only-of-type {\n",
       "        vertical-align: middle;\n",
       "    }\n",
       "\n",
       "    .dataframe tbody tr th {\n",
       "        vertical-align: top;\n",
       "    }\n",
       "\n",
       "    .dataframe thead th {\n",
       "        text-align: right;\n",
       "    }\n",
       "</style>\n",
       "<table border=\"1\" class=\"dataframe\">\n",
       "  <thead>\n",
       "    <tr style=\"text-align: right;\">\n",
       "      <th></th>\n",
       "      <th>a</th>\n",
       "      <th>b</th>\n",
       "      <th>c</th>\n",
       "    </tr>\n",
       "  </thead>\n",
       "  <tbody>\n",
       "    <tr>\n",
       "      <th>0</th>\n",
       "      <td>1.157706</td>\n",
       "      <td>0.824187</td>\n",
       "      <td>-0.326053</td>\n",
       "    </tr>\n",
       "    <tr>\n",
       "      <th>1</th>\n",
       "      <td>0.074776</td>\n",
       "      <td>0.909315</td>\n",
       "      <td>0.389037</td>\n",
       "    </tr>\n",
       "    <tr>\n",
       "      <th>2</th>\n",
       "      <td>0.469512</td>\n",
       "      <td>-1.085996</td>\n",
       "      <td>0.020985</td>\n",
       "    </tr>\n",
       "    <tr>\n",
       "      <th>3</th>\n",
       "      <td>0.062221</td>\n",
       "      <td>0.256454</td>\n",
       "      <td>-1.171171</td>\n",
       "    </tr>\n",
       "    <tr>\n",
       "      <th>4</th>\n",
       "      <td>-0.021546</td>\n",
       "      <td>-1.082525</td>\n",
       "      <td>-2.748443</td>\n",
       "    </tr>\n",
       "    <tr>\n",
       "      <th>5</th>\n",
       "      <td>-0.110861</td>\n",
       "      <td>-1.433098</td>\n",
       "      <td>0.948843</td>\n",
       "    </tr>\n",
       "    <tr>\n",
       "      <th>6</th>\n",
       "      <td>-0.551417</td>\n",
       "      <td>1.499690</td>\n",
       "      <td>-0.968772</td>\n",
       "    </tr>\n",
       "    <tr>\n",
       "      <th>7</th>\n",
       "      <td>0.657169</td>\n",
       "      <td>-0.647033</td>\n",
       "      <td>-0.823641</td>\n",
       "    </tr>\n",
       "    <tr>\n",
       "      <th>8</th>\n",
       "      <td>-1.786187</td>\n",
       "      <td>1.261603</td>\n",
       "      <td>1.333605</td>\n",
       "    </tr>\n",
       "    <tr>\n",
       "      <th>9</th>\n",
       "      <td>-0.408243</td>\n",
       "      <td>-1.226114</td>\n",
       "      <td>-0.278294</td>\n",
       "    </tr>\n",
       "    <tr>\n",
       "      <th>10</th>\n",
       "      <td>-0.291162</td>\n",
       "      <td>-0.843100</td>\n",
       "      <td>-0.914754</td>\n",
       "    </tr>\n",
       "    <tr>\n",
       "      <th>11</th>\n",
       "      <td>-0.072779</td>\n",
       "      <td>0.192083</td>\n",
       "      <td>0.341443</td>\n",
       "    </tr>\n",
       "    <tr>\n",
       "      <th>12</th>\n",
       "      <td>0.380578</td>\n",
       "      <td>0.458038</td>\n",
       "      <td>-0.180115</td>\n",
       "    </tr>\n",
       "    <tr>\n",
       "      <th>13</th>\n",
       "      <td>0.253162</td>\n",
       "      <td>0.458090</td>\n",
       "      <td>-0.857014</td>\n",
       "    </tr>\n",
       "    <tr>\n",
       "      <th>14</th>\n",
       "      <td>-1.980324</td>\n",
       "      <td>-0.145453</td>\n",
       "      <td>0.263719</td>\n",
       "    </tr>\n",
       "    <tr>\n",
       "      <th>15</th>\n",
       "      <td>0.224639</td>\n",
       "      <td>1.563216</td>\n",
       "      <td>0.501697</td>\n",
       "    </tr>\n",
       "    <tr>\n",
       "      <th>16</th>\n",
       "      <td>0.502827</td>\n",
       "      <td>0.585660</td>\n",
       "      <td>0.792931</td>\n",
       "    </tr>\n",
       "    <tr>\n",
       "      <th>17</th>\n",
       "      <td>0.955434</td>\n",
       "      <td>0.640095</td>\n",
       "      <td>0.248142</td>\n",
       "    </tr>\n",
       "    <tr>\n",
       "      <th>18</th>\n",
       "      <td>1.764272</td>\n",
       "      <td>0.472410</td>\n",
       "      <td>-0.677751</td>\n",
       "    </tr>\n",
       "    <tr>\n",
       "      <th>19</th>\n",
       "      <td>-0.157289</td>\n",
       "      <td>-2.841476</td>\n",
       "      <td>0.443778</td>\n",
       "    </tr>\n",
       "  </tbody>\n",
       "</table>\n",
       "</div>"
      ],
      "text/plain": [
       "           a         b         c\n",
       "0   1.157706  0.824187 -0.326053\n",
       "1   0.074776  0.909315  0.389037\n",
       "2   0.469512 -1.085996  0.020985\n",
       "3   0.062221  0.256454 -1.171171\n",
       "4  -0.021546 -1.082525 -2.748443\n",
       "5  -0.110861 -1.433098  0.948843\n",
       "6  -0.551417  1.499690 -0.968772\n",
       "7   0.657169 -0.647033 -0.823641\n",
       "8  -1.786187  1.261603  1.333605\n",
       "9  -0.408243 -1.226114 -0.278294\n",
       "10 -0.291162 -0.843100 -0.914754\n",
       "11 -0.072779  0.192083  0.341443\n",
       "12  0.380578  0.458038 -0.180115\n",
       "13  0.253162  0.458090 -0.857014\n",
       "14 -1.980324 -0.145453  0.263719\n",
       "15  0.224639  1.563216  0.501697\n",
       "16  0.502827  0.585660  0.792931\n",
       "17  0.955434  0.640095  0.248142\n",
       "18  1.764272  0.472410 -0.677751\n",
       "19 -0.157289 -2.841476  0.443778"
      ]
     },
     "execution_count": 11,
     "metadata": {},
     "output_type": "execute_result"
    }
   ],
   "source": [
    "chart_data = pd.DataFrame(\n",
    "     np.random.randn(20, 3),\n",
    "     columns=['a', 'b', 'c'])\n",
    "chart_data"
   ]
  },
  {
   "cell_type": "code",
   "execution_count": 12,
   "metadata": {},
   "outputs": [
    {
     "data": {
      "text/plain": [
       "(array([[  37.79083492, -122.42194444],\n",
       "        [  37.76172585, -122.42571025],\n",
       "        [  37.78140772, -122.41973083],\n",
       "        ...,\n",
       "        [  37.74325443, -122.37879724],\n",
       "        [  37.75195324, -122.3884409 ],\n",
       "        [  37.78968749, -122.38985778]]),)"
      ]
     },
     "execution_count": 12,
     "metadata": {},
     "output_type": "execute_result"
    }
   ],
   "source": [
    "np.random.randn(1000, 2) / [50, 50] + [37.76, -122.4],"
   ]
  },
  {
   "cell_type": "markdown",
   "metadata": {},
   "source": []
  },
  {
   "cell_type": "code",
   "execution_count": 33,
   "metadata": {},
   "outputs": [
    {
     "data": {
      "text/plain": [
       "array([[-0.57553946,  0.35169756]])"
      ]
     },
     "execution_count": 33,
     "metadata": {},
     "output_type": "execute_result"
    }
   ],
   "source": [
    "a = np.random.randn(1, 2)\n",
    "a"
   ]
  },
  {
   "cell_type": "code",
   "execution_count": 34,
   "metadata": {},
   "outputs": [
    {
     "data": {
      "text/plain": [
       "array([[  37.74848921, -122.39296605]])"
      ]
     },
     "execution_count": 34,
     "metadata": {},
     "output_type": "execute_result"
    }
   ],
   "source": [
    "a/[50, 50] + [37.76, -122.4]"
   ]
  }
 ],
 "metadata": {
  "kernelspec": {
   "display_name": "st",
   "language": "python",
   "name": "python3"
  },
  "language_info": {
   "codemirror_mode": {
    "name": "ipython",
    "version": 3
   },
   "file_extension": ".py",
   "mimetype": "text/x-python",
   "name": "python",
   "nbconvert_exporter": "python",
   "pygments_lexer": "ipython3",
   "version": "3.12.4"
  }
 },
 "nbformat": 4,
 "nbformat_minor": 2
}
